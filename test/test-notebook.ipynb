{
 "cells": [
  {
   "cell_type": "code",
   "execution_count": 1,
   "metadata": {},
   "outputs": [],
   "source": [
    "# Get project details\n",
    "from project_lib import Project\n",
    "\n",
    "project = Project(project_id='e3a61815-9e19-4f71-ae60-15a3cc71d832', project_access_token='p-9d8c2351249b198a413453cbb529280ee0176767')"
   ]
  },
  {
   "cell_type": "code",
   "execution_count": 2,
   "metadata": {},
   "outputs": [],
   "source": [
    "import numpy as np\n",
    "import pandas as pd\n",
    "import math\n",
    "import matplotlib.pyplot as plt"
   ]
  },
  {
   "cell_type": "code",
   "execution_count": 3,
   "metadata": {},
   "outputs": [
    {
     "name": "stdout",
     "output_type": "stream",
     "text": [
      "/opt/conda/envs/Python-3.7-main/lib/python3.7/site-packages/secretstorage/dhcrypto.py:16: CryptographyDeprecationWarning: int_from_bytes is deprecated, use int.from_bytes instead\n",
      "  from cryptography.utils import int_from_bytes\n",
      "/opt/conda/envs/Python-3.7-main/lib/python3.7/site-packages/secretstorage/util.py:25: CryptographyDeprecationWarning: int_from_bytes is deprecated, use int.from_bytes instead\n",
      "  from cryptography.utils import int_from_bytes\n",
      "Requirement already satisfied: ibmpairs in /opt/conda/envs/Python-3.7-main/lib/python3.7/site-packages (0.1.3)\n",
      "Requirement already satisfied: jsonschema in /opt/conda/envs/Python-3.7-main/lib/python3.7/site-packages (from ibmpairs) (3.2.0)\n",
      "Requirement already satisfied: fs in /opt/conda/envs/Python-3.7-main/lib/python3.7/site-packages (from ibmpairs) (2.4.13)\n",
      "Requirement already satisfied: Pillow>=1.6 in /opt/conda/envs/Python-3.7-main/lib/python3.7/site-packages (from ibmpairs) (7.2.0)\n",
      "Requirement already satisfied: requests>=2.4 in /opt/conda/envs/Python-3.7-main/lib/python3.7/site-packages (from ibmpairs) (2.24.0)\n",
      "Requirement already satisfied: numpy in /opt/conda/envs/Python-3.7-main/lib/python3.7/site-packages (from ibmpairs) (1.18.5)\n",
      "Requirement already satisfied: pandas in /opt/conda/envs/Python-3.7-main/lib/python3.7/site-packages (from ibmpairs) (1.0.5)\n",
      "Requirement already satisfied: pytz in /opt/conda/envs/Python-3.7-main/lib/python3.7/site-packages (from ibmpairs) (2020.1)\n",
      "Requirement already satisfied: futures in /opt/conda/envs/Python-3.7-main/lib/python3.7/site-packages (from ibmpairs) (3.1.1)\n",
      "Requirement already satisfied: shapely in /opt/conda/envs/Python-3.7-main/lib/python3.7/site-packages (from ibmpairs) (1.7.1)\n",
      "Requirement already satisfied: future in /opt/conda/envs/Python-3.7-main/lib/python3.7/site-packages (from ibmpairs) (0.18.2)\n",
      "Requirement already satisfied: setuptools in /opt/conda/envs/Python-3.7-main/lib/python3.7/site-packages (from jsonschema->ibmpairs) (47.3.1.post20200622)\n",
      "Requirement already satisfied: attrs>=17.4.0 in /opt/conda/envs/Python-3.7-main/lib/python3.7/site-packages (from jsonschema->ibmpairs) (19.3.0)\n",
      "Requirement already satisfied: importlib-metadata; python_version < \"3.8\" in /opt/conda/envs/Python-3.7-main/lib/python3.7/site-packages (from jsonschema->ibmpairs) (1.6.1)\n",
      "Requirement already satisfied: six>=1.11.0 in /opt/conda/envs/Python-3.7-main/lib/python3.7/site-packages (from jsonschema->ibmpairs) (1.15.0)\n",
      "Requirement already satisfied: pyrsistent>=0.14.0 in /opt/conda/envs/Python-3.7-main/lib/python3.7/site-packages (from jsonschema->ibmpairs) (0.16.0)\n",
      "Requirement already satisfied: appdirs~=1.4.3 in /opt/conda/envs/Python-3.7-main/lib/python3.7/site-packages (from fs->ibmpairs) (1.4.4)\n",
      "Requirement already satisfied: certifi>=2017.4.17 in /opt/conda/envs/Python-3.7-main/lib/python3.7/site-packages (from requests>=2.4->ibmpairs) (2021.5.30)\n",
      "Requirement already satisfied: chardet<4,>=3.0.2 in /opt/conda/envs/Python-3.7-main/lib/python3.7/site-packages (from requests>=2.4->ibmpairs) (3.0.4)\n",
      "Requirement already satisfied: urllib3!=1.25.0,!=1.25.1,<1.26,>=1.21.1 in /opt/conda/envs/Python-3.7-main/lib/python3.7/site-packages (from requests>=2.4->ibmpairs) (1.25.9)\n",
      "Requirement already satisfied: idna<3,>=2.5 in /opt/conda/envs/Python-3.7-main/lib/python3.7/site-packages (from requests>=2.4->ibmpairs) (2.9)\n",
      "Requirement already satisfied: python-dateutil>=2.6.1 in /opt/conda/envs/Python-3.7-main/lib/python3.7/site-packages (from pandas->ibmpairs) (2.8.1)\n",
      "Requirement already satisfied: zipp>=0.5 in /opt/conda/envs/Python-3.7-main/lib/python3.7/site-packages (from importlib-metadata; python_version < \"3.8\"->jsonschema->ibmpairs) (3.1.0)\n",
      "Note: you may need to restart the kernel to use updated packages.\n"
     ]
    }
   ],
   "source": [
    "pip install ibmpairs"
   ]
  },
  {
   "cell_type": "code",
   "execution_count": 4,
   "metadata": {},
   "outputs": [],
   "source": [
    "from ibmpairs import paw, authentication\n",
    "\n",
    "my_file = project.get_file(\"pairpass.txt\") \n",
    "PAIRS_API_KEY=my_file.readline().decode('utf-8') \n",
    "PAIRS_USER = \"kwiatks@ibm.com\" # REPLACE WITH YOUR USERNAME\n",
    "PAIRS_SERVER = \"https://pairs.res.ibm.com\"\n",
    "OAUTH = authentication.OAuth2(api_key = PAIRS_API_KEY )"
   ]
  },
  {
   "cell_type": "code",
   "execution_count": 5,
   "metadata": {},
   "outputs": [],
   "source": [
    "query_json = {\n",
    "      \"layers\" : [\n",
    "          {\n",
    "            \"type\" : \"raster\", \n",
    "            \"id\" : \"49423\"\n",
    "          }\n",
    "      ],\n",
    "      \"spatial\" : {\n",
    "          \"type\" : \"point\",  \n",
    "          \"coordinates\" : [\"-24.0\", \"29.0\"]\n",
    "      }, # note coords are specified as [latitude, longitude]\n",
    "      \"temporal\" : {\n",
    "          \"intervals\" : [\n",
    "          {\n",
    "              \"start\" : \"2015-01-01T00:00:00Z\", \n",
    "              \"end\" : \"2015-10-31T00:00:00Z\"\n",
    "          }\n",
    "      ]}\n",
    "  }\n"
   ]
  },
  {
   "cell_type": "code",
   "execution_count": 6,
   "metadata": {},
   "outputs": [],
   "source": [
    "query = paw.PAIRSQuery(query_json, PAIRS_SERVER,  auth=OAUTH, authType='api-key')"
   ]
  },
  {
   "cell_type": "code",
   "execution_count": 7,
   "metadata": {},
   "outputs": [
    {
     "name": "stderr",
     "output_type": "stream",
     "text": [
      "GeoPandas not available on your system. Cannot convert vector dataframe to GeoPandas dataframe.\n"
     ]
    }
   ],
   "source": [
    "query.submit()"
   ]
  },
  {
   "cell_type": "code",
   "execution_count": 8,
   "metadata": {},
   "outputs": [
    {
     "data": {
      "text/html": [
       "<div>\n",
       "<style scoped>\n",
       "    .dataframe tbody tr th:only-of-type {\n",
       "        vertical-align: middle;\n",
       "    }\n",
       "\n",
       "    .dataframe tbody tr th {\n",
       "        vertical-align: top;\n",
       "    }\n",
       "\n",
       "    .dataframe thead th {\n",
       "        text-align: right;\n",
       "    }\n",
       "</style>\n",
       "<table border=\"1\" class=\"dataframe\">\n",
       "  <thead>\n",
       "    <tr style=\"text-align: right;\">\n",
       "      <th></th>\n",
       "      <th>layerId</th>\n",
       "      <th>timestamp</th>\n",
       "      <th>longitude</th>\n",
       "      <th>latitude</th>\n",
       "      <th>value</th>\n",
       "      <th>region</th>\n",
       "      <th>property</th>\n",
       "      <th>geometry</th>\n",
       "    </tr>\n",
       "  </thead>\n",
       "  <tbody>\n",
       "    <tr>\n",
       "      <th>7267</th>\n",
       "      <td>49423</td>\n",
       "      <td>2015-10-30 20:00:00+00:00</td>\n",
       "      <td>29.0</td>\n",
       "      <td>-24.0</td>\n",
       "      <td>291.953094</td>\n",
       "      <td>NaN</td>\n",
       "      <td>NaN</td>\n",
       "      <td>POINT (29 -24)</td>\n",
       "    </tr>\n",
       "    <tr>\n",
       "      <th>7268</th>\n",
       "      <td>49423</td>\n",
       "      <td>2015-10-30 21:00:00+00:00</td>\n",
       "      <td>29.0</td>\n",
       "      <td>-24.0</td>\n",
       "      <td>291.923798</td>\n",
       "      <td>NaN</td>\n",
       "      <td>NaN</td>\n",
       "      <td>POINT (29 -24)</td>\n",
       "    </tr>\n",
       "    <tr>\n",
       "      <th>7269</th>\n",
       "      <td>49423</td>\n",
       "      <td>2015-10-30 22:00:00+00:00</td>\n",
       "      <td>29.0</td>\n",
       "      <td>-24.0</td>\n",
       "      <td>289.999420</td>\n",
       "      <td>NaN</td>\n",
       "      <td>NaN</td>\n",
       "      <td>POINT (29 -24)</td>\n",
       "    </tr>\n",
       "    <tr>\n",
       "      <th>7270</th>\n",
       "      <td>49423</td>\n",
       "      <td>2015-10-30 23:00:00+00:00</td>\n",
       "      <td>29.0</td>\n",
       "      <td>-24.0</td>\n",
       "      <td>289.926300</td>\n",
       "      <td>NaN</td>\n",
       "      <td>NaN</td>\n",
       "      <td>POINT (29 -24)</td>\n",
       "    </tr>\n",
       "    <tr>\n",
       "      <th>7271</th>\n",
       "      <td>49423</td>\n",
       "      <td>2015-10-31 00:00:00+00:00</td>\n",
       "      <td>29.0</td>\n",
       "      <td>-24.0</td>\n",
       "      <td>289.651245</td>\n",
       "      <td>NaN</td>\n",
       "      <td>NaN</td>\n",
       "      <td>POINT (29 -24)</td>\n",
       "    </tr>\n",
       "  </tbody>\n",
       "</table>\n",
       "</div>"
      ],
      "text/plain": [
       "      layerId                 timestamp  longitude  latitude       value  \\\n",
       "7267    49423 2015-10-30 20:00:00+00:00       29.0     -24.0  291.953094   \n",
       "7268    49423 2015-10-30 21:00:00+00:00       29.0     -24.0  291.923798   \n",
       "7269    49423 2015-10-30 22:00:00+00:00       29.0     -24.0  289.999420   \n",
       "7270    49423 2015-10-30 23:00:00+00:00       29.0     -24.0  289.926300   \n",
       "7271    49423 2015-10-31 00:00:00+00:00       29.0     -24.0  289.651245   \n",
       "\n",
       "      region  property        geometry  \n",
       "7267     NaN       NaN  POINT (29 -24)  \n",
       "7268     NaN       NaN  POINT (29 -24)  \n",
       "7269     NaN       NaN  POINT (29 -24)  \n",
       "7270     NaN       NaN  POINT (29 -24)  \n",
       "7271     NaN       NaN  POINT (29 -24)  "
      ]
     },
     "execution_count": 8,
     "metadata": {},
     "output_type": "execute_result"
    }
   ],
   "source": [
    "query.vdf.tail()"
   ]
  },
  {
   "cell_type": "code",
   "execution_count": null,
   "metadata": {},
   "outputs": [],
   "source": []
  },
  {
   "cell_type": "code",
   "execution_count": null,
   "metadata": {},
   "outputs": [],
   "source": []
  }
 ],
 "metadata": {
  "kernelspec": {
   "display_name": "Python 3.7",
   "language": "python",
   "name": "python3"
  },
  "language_info": {
   "codemirror_mode": {
    "name": "ipython",
    "version": 3
   },
   "file_extension": ".py",
   "mimetype": "text/x-python",
   "name": "python",
   "nbconvert_exporter": "python",
   "pygments_lexer": "ipython3",
   "version": "3.7.10"
  }
 },
 "nbformat": 4,
 "nbformat_minor": 1
}
